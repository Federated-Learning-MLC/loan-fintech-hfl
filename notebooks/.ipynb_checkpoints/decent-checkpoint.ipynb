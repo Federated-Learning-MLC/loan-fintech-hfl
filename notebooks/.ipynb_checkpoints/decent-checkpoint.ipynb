{
 "cells": [
  {
   "cell_type": "markdown",
   "id": "a0f613f4-5943-4e56-904e-cda362a39136",
   "metadata": {},
   "source": [
    "# <center>Training a Decentralized Machine Learning Model</center>"
   ]
  },
  {
   "cell_type": "markdown",
   "id": "0bf67650-39e4-4360-9e2f-cf39a0caa147",
   "metadata": {},
   "source": [
    "In this phase, we will train a decentralized machine learning (ML) model using Horizontal Federated Learning (HFL), where five clients collaboratively train a model on fraud transaction data without sharing their raw data. Each client retains its dataset locally, and only model updates are exchanged, ensuring privacy and compliance with data protection regulations.\n",
    "\n",
    "Unlike centralized ML, where data is aggregated in a single location, HFL addresses privacy concerns, data silos, and regulatory constraints**. After benchmarking the centralized model, we will compare its performance, efficiency, and trade-offs against the federated approach to assess its viability in fraud detection.\n",
    "\n",
    "--- "
   ]
  },
  {
   "cell_type": "code",
   "execution_count": 1,
   "id": "f468caec-9c59-47a3-bebb-5d015797d6c6",
   "metadata": {},
   "outputs": [
    {
     "name": "stdout",
     "output_type": "stream",
     "text": [
      "Python implementation: CPython\n",
      "Python version       : 3.12.9\n",
      "IPython version      : 9.0.2\n",
      "\n",
      "torch: 2.6.0\n",
      "flwr : 1.14.0\n",
      "\n"
     ]
    }
   ],
   "source": [
    "%load_ext autoreload\n",
    "%load_ext watermark\n",
    "    \n",
    "%autoreload 2\n",
    "%watermark --python -p torch,flwr"
   ]
  },
  {
   "cell_type": "markdown",
   "id": "e77b8f0e-b1c2-4d8a-b7ef-18596e7db564",
   "metadata": {},
   "source": [
    "--------\n",
    "\n",
    "## Loading Dependencies"
   ]
  },
  {
   "cell_type": "code",
   "execution_count": 2,
   "id": "ecfe546a-a455-4deb-b375-297379eaa142",
   "metadata": {},
   "outputs": [],
   "source": [
    "import os\n",
    "import sys\n",
    "sys.path.append(\"../\")\n",
    "\n",
    "import torch\n",
    "import torch.nn as nn\n",
    "\n",
    "from logging import ERROR\n",
    "\n",
    "from flwr.common import ndarrays_to_parameters, Context \n",
    "from flwr.client import Client, ClientApp, NumPyClient\n",
    "from flwr.server import ServerApp, ServerConfig, ServerAppComponents\n",
    "from flwr.server.strategy import FedAvg \n",
    "from flwr.simulation import run_simulation \n",
    "\n",
    "from src.config import NUM_CLASSES, NUM_FEATURES, SERVER_CONFIG\n",
    "from src.train_decentralized import train_model\n",
    "from src.FL_client import BankFLClient\n",
    "from src.FL_server import weighted_average, evaluate \n",
    "from src.local_utility import load_client_data, load_test_data, get_weights, set_weights\n",
    "from src.local_utility import set_device, set_seed"
   ]
  },
  {
   "cell_type": "markdown",
   "id": "b610703b-c121-49f7-b720-18cc701d53ff",
   "metadata": {},
   "source": [
    "------"
   ]
  },
  {
   "cell_type": "code",
   "execution_count": 3,
   "id": "1895626e-dc20-41b9-82c2-fc3e1abb9f9b",
   "metadata": {},
   "outputs": [],
   "source": [
    "DEVICE = set_device()\n",
    "set_seed()"
   ]
  },
  {
   "cell_type": "code",
   "execution_count": 4,
   "id": "e44a389f-482b-4c3b-b76c-ccc958e4765a",
   "metadata": {},
   "outputs": [],
   "source": [
    "# Load Datasets\n",
    "num_clients = SERVER_CONFIG['num_clients']\n",
    "train_sets = []\n",
    "val_sets = []\n",
    "\n",
    "for i in range(num_clients):\n",
    "    train_set, val_set = load_client_data(i)\n",
    "    train_sets.append(train_set)\n",
    "    val_sets.append(val_set)\n",
    "\n",
    "test_set = load_test_data()"
   ]
  },
  {
   "cell_type": "markdown",
   "id": "001407f0-4658-4c2b-a1c8-3a14db891204",
   "metadata": {},
   "source": [
    "------"
   ]
  },
  {
   "cell_type": "markdown",
   "id": "55ee7695-62ed-40c3-9acc-fbe8ccc750e8",
   "metadata": {},
   "source": [
    "-----\n",
    "\n",
    "## Trying Transformer Model"
   ]
  },
  {
   "cell_type": "code",
   "execution_count": 5,
   "id": "50cf786a-eaa6-41a6-b9fa-fdd2c34fd1f8",
   "metadata": {},
   "outputs": [],
   "source": [
    "import torch\n",
    "import torch.nn as nn\n",
    "import torch.optim as optim\n",
    "import pandas as pd\n",
    "import numpy as np\n",
    "\n",
    "from torch.utils.data import Dataset, DataLoader"
   ]
  },
  {
   "cell_type": "code",
   "execution_count": 6,
   "id": "259203a3-917d-4c22-9f1e-5e112db5ded7",
   "metadata": {},
   "outputs": [
    {
     "data": {
      "text/html": [
       "<div>\n",
       "<style scoped>\n",
       "    .dataframe tbody tr th:only-of-type {\n",
       "        vertical-align: middle;\n",
       "    }\n",
       "\n",
       "    .dataframe tbody tr th {\n",
       "        vertical-align: top;\n",
       "    }\n",
       "\n",
       "    .dataframe thead th {\n",
       "        text-align: right;\n",
       "    }\n",
       "</style>\n",
       "<table border=\"1\" class=\"dataframe\">\n",
       "  <thead>\n",
       "    <tr style=\"text-align: right;\">\n",
       "      <th></th>\n",
       "      <th>fraud_bool</th>\n",
       "      <th>income</th>\n",
       "      <th>name_email_similarity</th>\n",
       "      <th>prev_address_months_count</th>\n",
       "      <th>current_address_months_count</th>\n",
       "      <th>customer_age</th>\n",
       "      <th>days_since_request</th>\n",
       "      <th>intended_balcon_amount</th>\n",
       "      <th>payment_type</th>\n",
       "      <th>zip_count_4w</th>\n",
       "      <th>...</th>\n",
       "      <th>has_other_cards</th>\n",
       "      <th>proposed_credit_limit</th>\n",
       "      <th>foreign_request</th>\n",
       "      <th>source</th>\n",
       "      <th>session_length_in_minutes</th>\n",
       "      <th>device_os</th>\n",
       "      <th>keep_alive_session</th>\n",
       "      <th>device_distinct_emails_8w</th>\n",
       "      <th>device_fraud_count</th>\n",
       "      <th>month</th>\n",
       "    </tr>\n",
       "  </thead>\n",
       "  <tbody>\n",
       "    <tr>\n",
       "      <th>0</th>\n",
       "      <td>0</td>\n",
       "      <td>0.1</td>\n",
       "      <td>0.794401</td>\n",
       "      <td>-1</td>\n",
       "      <td>68</td>\n",
       "      <td>30</td>\n",
       "      <td>0.008520</td>\n",
       "      <td>21.849185</td>\n",
       "      <td>AA</td>\n",
       "      <td>2384</td>\n",
       "      <td>...</td>\n",
       "      <td>1</td>\n",
       "      <td>1000.0</td>\n",
       "      <td>0</td>\n",
       "      <td>INTERNET</td>\n",
       "      <td>3.768328</td>\n",
       "      <td>linux</td>\n",
       "      <td>1</td>\n",
       "      <td>1</td>\n",
       "      <td>0</td>\n",
       "      <td>2</td>\n",
       "    </tr>\n",
       "    <tr>\n",
       "      <th>1</th>\n",
       "      <td>0</td>\n",
       "      <td>0.7</td>\n",
       "      <td>0.140562</td>\n",
       "      <td>-1</td>\n",
       "      <td>151</td>\n",
       "      <td>30</td>\n",
       "      <td>0.017462</td>\n",
       "      <td>-1.218606</td>\n",
       "      <td>AC</td>\n",
       "      <td>2650</td>\n",
       "      <td>...</td>\n",
       "      <td>0</td>\n",
       "      <td>200.0</td>\n",
       "      <td>0</td>\n",
       "      <td>INTERNET</td>\n",
       "      <td>3.675692</td>\n",
       "      <td>other</td>\n",
       "      <td>1</td>\n",
       "      <td>1</td>\n",
       "      <td>0</td>\n",
       "      <td>7</td>\n",
       "    </tr>\n",
       "    <tr>\n",
       "      <th>2</th>\n",
       "      <td>0</td>\n",
       "      <td>0.1</td>\n",
       "      <td>0.000572</td>\n",
       "      <td>-1</td>\n",
       "      <td>57</td>\n",
       "      <td>30</td>\n",
       "      <td>0.016778</td>\n",
       "      <td>-1.469338</td>\n",
       "      <td>AB</td>\n",
       "      <td>3443</td>\n",
       "      <td>...</td>\n",
       "      <td>0</td>\n",
       "      <td>200.0</td>\n",
       "      <td>0</td>\n",
       "      <td>INTERNET</td>\n",
       "      <td>2.884211</td>\n",
       "      <td>other</td>\n",
       "      <td>0</td>\n",
       "      <td>1</td>\n",
       "      <td>0</td>\n",
       "      <td>2</td>\n",
       "    </tr>\n",
       "    <tr>\n",
       "      <th>3</th>\n",
       "      <td>0</td>\n",
       "      <td>0.9</td>\n",
       "      <td>0.776983</td>\n",
       "      <td>84</td>\n",
       "      <td>10</td>\n",
       "      <td>30</td>\n",
       "      <td>0.013509</td>\n",
       "      <td>-0.836791</td>\n",
       "      <td>AD</td>\n",
       "      <td>234</td>\n",
       "      <td>...</td>\n",
       "      <td>0</td>\n",
       "      <td>500.0</td>\n",
       "      <td>0</td>\n",
       "      <td>INTERNET</td>\n",
       "      <td>13.437128</td>\n",
       "      <td>other</td>\n",
       "      <td>1</td>\n",
       "      <td>1</td>\n",
       "      <td>0</td>\n",
       "      <td>7</td>\n",
       "    </tr>\n",
       "    <tr>\n",
       "      <th>4</th>\n",
       "      <td>0</td>\n",
       "      <td>0.6</td>\n",
       "      <td>0.094623</td>\n",
       "      <td>-1</td>\n",
       "      <td>100</td>\n",
       "      <td>20</td>\n",
       "      <td>0.001095</td>\n",
       "      <td>-0.488158</td>\n",
       "      <td>AD</td>\n",
       "      <td>1911</td>\n",
       "      <td>...</td>\n",
       "      <td>0</td>\n",
       "      <td>200.0</td>\n",
       "      <td>1</td>\n",
       "      <td>INTERNET</td>\n",
       "      <td>8.945112</td>\n",
       "      <td>other</td>\n",
       "      <td>1</td>\n",
       "      <td>1</td>\n",
       "      <td>0</td>\n",
       "      <td>0</td>\n",
       "    </tr>\n",
       "  </tbody>\n",
       "</table>\n",
       "<p>5 rows × 32 columns</p>\n",
       "</div>"
      ],
      "text/plain": [
       "   fraud_bool  income  name_email_similarity  prev_address_months_count  \\\n",
       "0           0     0.1               0.794401                         -1   \n",
       "1           0     0.7               0.140562                         -1   \n",
       "2           0     0.1               0.000572                         -1   \n",
       "3           0     0.9               0.776983                         84   \n",
       "4           0     0.6               0.094623                         -1   \n",
       "\n",
       "   current_address_months_count  customer_age  days_since_request  \\\n",
       "0                            68            30            0.008520   \n",
       "1                           151            30            0.017462   \n",
       "2                            57            30            0.016778   \n",
       "3                            10            30            0.013509   \n",
       "4                           100            20            0.001095   \n",
       "\n",
       "   intended_balcon_amount payment_type  zip_count_4w  ...  has_other_cards  \\\n",
       "0               21.849185           AA          2384  ...                1   \n",
       "1               -1.218606           AC          2650  ...                0   \n",
       "2               -1.469338           AB          3443  ...                0   \n",
       "3               -0.836791           AD           234  ...                0   \n",
       "4               -0.488158           AD          1911  ...                0   \n",
       "\n",
       "   proposed_credit_limit  foreign_request    source  \\\n",
       "0                 1000.0                0  INTERNET   \n",
       "1                  200.0                0  INTERNET   \n",
       "2                  200.0                0  INTERNET   \n",
       "3                  500.0                0  INTERNET   \n",
       "4                  200.0                1  INTERNET   \n",
       "\n",
       "   session_length_in_minutes device_os  keep_alive_session  \\\n",
       "0                   3.768328     linux                   1   \n",
       "1                   3.675692     other                   1   \n",
       "2                   2.884211     other                   0   \n",
       "3                  13.437128     other                   1   \n",
       "4                   8.945112     other                   1   \n",
       "\n",
       "   device_distinct_emails_8w device_fraud_count  month  \n",
       "0                          1                  0      2  \n",
       "1                          1                  0      7  \n",
       "2                          1                  0      2  \n",
       "3                          1                  0      7  \n",
       "4                          1                  0      0  \n",
       "\n",
       "[5 rows x 32 columns]"
      ]
     },
     "execution_count": 6,
     "metadata": {},
     "output_type": "execute_result"
    }
   ],
   "source": [
    "# Step 1: Load and preprocess the data\n",
    "from src.paths import DATA_DIR\n",
    "df = pd.read_csv(f'{DATA_DIR}/base_downsampled.csv')\n",
    "df.head()"
   ]
  },
  {
   "cell_type": "code",
   "execution_count": 7,
   "id": "5c5f50d6-776e-4217-bda5-b3bfa019decb",
   "metadata": {},
   "outputs": [],
   "source": [
    "from src.local_utility import upload_dataset"
   ]
  },
  {
   "cell_type": "code",
   "execution_count": 8,
   "id": "140670b2-6744-40ec-9a9a-1ca2af513056",
   "metadata": {},
   "outputs": [],
   "source": [
    "X_train, X_val, X_test, y_train, y_val, y_test, feature_names, pipeline = upload_dataset()"
   ]
  },
  {
   "cell_type": "code",
   "execution_count": 9,
   "id": "4b457a4d-0fbf-453f-81a5-923864d71ea3",
   "metadata": {},
   "outputs": [],
   "source": [
    "# Convert to PyTorch tensors\n",
    "X_train_tensor = torch.tensor(X_train, dtype=torch.float32)\n",
    "y_train_tensor = torch.tensor(y_train, dtype=torch.float32)\n",
    "X_val_tensor = torch.tensor(X_val, dtype=torch.float32)\n",
    "y_val_tensor = torch.tensor(y_val, dtype=torch.float32)\n",
    "X_test_tensor = torch.tensor(X_test, dtype=torch.float32)\n",
    "y_test_tensor = torch.tensor(y_test, dtype=torch.float32)"
   ]
  },
  {
   "cell_type": "code",
   "execution_count": 10,
   "id": "1ebbe61b-77ad-4613-8474-9804a56ed916",
   "metadata": {},
   "outputs": [],
   "source": [
    "# Create a Dataset class\n",
    "class FraudDataset(Dataset):\n",
    "    def __init__(self, features, labels):\n",
    "        self.features = features\n",
    "        self.labels = labels\n",
    "\n",
    "    def __len__(self):\n",
    "        return len(self.features)\n",
    "\n",
    "    def __getitem__(self, idx):\n",
    "        return self.features[idx], self.labels[idx]\n",
    "\n",
    "train_dataset = FraudDataset(X_train_tensor, y_train_tensor)\n",
    "val_dataset = FraudDataset(X_val_tensor, y_val_tensor)\n",
    "test_dataset = FraudDataset(X_test_tensor, y_test_tensor)\n",
    "\n",
    "train_loader = DataLoader(train_dataset, batch_size=32, shuffle=True)\n",
    "val_loader = DataLoader(val_dataset, batch_size=32, shuffle=False)\n",
    "test_loader = DataLoader(test_dataset, batch_size=32, shuffle=False)"
   ]
  },
  {
   "cell_type": "code",
   "execution_count": 11,
   "id": "ff4fa084-8bb0-43e5-b044-4b98f4e0e603",
   "metadata": {},
   "outputs": [],
   "source": [
    "class TransformerModel(nn.Module):\n",
    "    def __init__(self, input_dim, num_classes, num_heads, num_layers, dim_feedforward, dropout=0.1):\n",
    "        super().__init__()\n",
    "        self.embedding = nn.Linear(input_dim, dim_feedforward)\n",
    "        encoder_layer = nn.TransformerEncoderLayer(\n",
    "            d_model=dim_feedforward, \n",
    "            nhead=num_heads, \n",
    "            dim_feedforward=dim_feedforward, \n",
    "            dropout=dropout,\n",
    "            batch_first=True  # Set batch_first to True\n",
    "        )\n",
    "        self.transformer_encoder = nn.TransformerEncoder(encoder_layer, num_layers=num_layers)\n",
    "        self.fc = nn.Linear(dim_feedforward, num_classes)\n",
    "\n",
    "    def forward(self, x):\n",
    "        x = self.embedding(x)\n",
    "        x = x.unsqueeze(1)  # Add sequence dimension\n",
    "        x = self.transformer_encoder(x)\n",
    "        x = x.squeeze(1)  # Remove sequence dimension\n",
    "        x = self.fc(x)\n",
    "        return x #torch.sigmoid(x)\n",
    "\n",
    "# Hyperparameters\n",
    "input_dim = X_train.shape[1]\n",
    "num_classes = 2\n",
    "num_heads = 8\n",
    "num_layers = 2\n",
    "dim_feedforward = 64\n",
    "dropout = 0.1\n",
    "\n",
    "model = TransformerModel(input_dim, num_classes, num_heads, num_layers, dim_feedforward, dropout)"
   ]
  },
  {
   "cell_type": "code",
   "execution_count": 12,
   "id": "3b14bd98-f6e6-4b76-8555-4d102db125ec",
   "metadata": {},
   "outputs": [
    {
     "data": {
      "text/plain": [
       "51"
      ]
     },
     "execution_count": 12,
     "metadata": {},
     "output_type": "execute_result"
    }
   ],
   "source": [
    "input_dim "
   ]
  },
  {
   "cell_type": "code",
   "execution_count": 13,
   "id": "02c10683-eadb-4a1e-9990-15368f656c8f",
   "metadata": {},
   "outputs": [],
   "source": [
    "# Step 3: Training\n",
    "criterion = nn.CrossEntropyLoss()\n",
    "optimizer = optim.SGD(model.parameters(), lr=3e-3)"
   ]
  },
  {
   "cell_type": "markdown",
   "id": "fbb69794-ad05-4c09-8f0b-cfd6702b4267",
   "metadata": {},
   "source": [
    "----"
   ]
  },
  {
   "cell_type": "code",
   "execution_count": 14,
   "id": "1f7e15d7-6b51-479b-bd49-7dd08a1ec2e2",
   "metadata": {},
   "outputs": [],
   "source": [
    "def evaluate_model(model, dataloader):\n",
    "    correct, total_loss, total_examples = 0, 0, 0\n",
    "    \n",
    "    with torch.no_grad():\n",
    "        model.eval()\n",
    "        for idx, (features, class_labels) in enumerate(dataloader):\n",
    "            probas = model(features)\n",
    "        \n",
    "            true_label = class_labels.long() #class_labels.view(probas.shape).to(probas.dtype)\n",
    "            loss = criterion(probas, true_label)\n",
    "            total_loss += loss.item()\n",
    "\n",
    "            pred = torch.argmax(probas, dim=1) #torch.where(probas > 0.5, 1, 0)\n",
    "            correct += torch.sum(true_label == pred).item()\n",
    "            total_examples += class_labels.numel() #len(class_labels)\n",
    "            \n",
    "    accuracy = (correct / total_examples) * 100 \n",
    "    avg_loss = total_loss / len(dataloader)\n",
    "    \n",
    "    return accuracy, avg_loss"
   ]
  },
  {
   "cell_type": "code",
   "execution_count": 15,
   "id": "b442d5bf-99c8-4fbb-b1bc-8490bea35c0b",
   "metadata": {},
   "outputs": [],
   "source": [
    "def train(model, train_loader, val_loader, criterion, optimizer, num_epochs=10, patience=5, verbose=True):\n",
    "    best_val_loss = float('inf')\n",
    "    epochs_without_improvement = 0\n",
    "\n",
    "    torch.manual_seed(42)\n",
    "    \n",
    "    for epoch in range(num_epochs):\n",
    "        model.train()\n",
    "        epoch_train_loss = 0\n",
    "        for batch_idx, (data, target) in enumerate(train_loader):\n",
    "            optimizer.zero_grad()\n",
    "            output = model(data)\n",
    "            loss = criterion(output, target.long() #target.view(output.shape)\n",
    "                            )\n",
    "            loss.backward()\n",
    "            optimizer.step()\n",
    "\n",
    "            epoch_train_loss += loss.item()\n",
    "\n",
    "        # Calculate average training loss for the epoch\n",
    "        train_loss = epoch_train_loss / len(train_loader)\n",
    "        \n",
    "        # Validation Step\n",
    "        val_accuracy, val_loss = evaluate_model(model, val_loader)\n",
    "\n",
    "        # Logging \n",
    "        if verbose:\n",
    "            print(f'Epoch {epoch+1:03d}/{num_epochs:03d} | Train Loss: {train_loss:.2f} | Val Accuracy: {val_accuracy:.2f}%'\n",
    "            f' | Val Loss: {val_loss:.2f}')\n",
    "\n",
    "        # Model Callback (Early Stopping)\n",
    "        if val_loss < best_val_loss:\n",
    "            best_val_loss = val_loss\n",
    "            epochs_without_improvement = 0\n",
    "        else:\n",
    "            epochs_without_improvement += 1\n",
    "            if epochs_without_improvement >= patience:\n",
    "                print(f'Early stopping at epoch {epoch+1}')\n",
    "                break"
   ]
  },
  {
   "cell_type": "code",
   "execution_count": 16,
   "id": "a9fdd0f5-2350-4f43-aa62-94f8ed77d939",
   "metadata": {},
   "outputs": [
    {
     "name": "stdout",
     "output_type": "stream",
     "text": [
      "Epoch 001/050 | Train Loss: 0.50 | Val Accuracy: 80.38% | Val Loss: 0.42\n",
      "Epoch 002/050 | Train Loss: 0.45 | Val Accuracy: 80.63% | Val Loss: 0.41\n",
      "Epoch 003/050 | Train Loss: 0.44 | Val Accuracy: 80.49% | Val Loss: 0.42\n",
      "Epoch 004/050 | Train Loss: 0.44 | Val Accuracy: 80.89% | Val Loss: 0.41\n",
      "Epoch 005/050 | Train Loss: 0.43 | Val Accuracy: 80.53% | Val Loss: 0.41\n",
      "Epoch 006/050 | Train Loss: 0.43 | Val Accuracy: 80.85% | Val Loss: 0.41\n",
      "Epoch 007/050 | Train Loss: 0.43 | Val Accuracy: 80.71% | Val Loss: 0.41\n",
      "Epoch 008/050 | Train Loss: 0.43 | Val Accuracy: 80.49% | Val Loss: 0.41\n",
      "Epoch 009/050 | Train Loss: 0.43 | Val Accuracy: 80.56% | Val Loss: 0.41\n",
      "Epoch 010/050 | Train Loss: 0.43 | Val Accuracy: 80.53% | Val Loss: 0.41\n",
      "Epoch 011/050 | Train Loss: 0.43 | Val Accuracy: 80.20% | Val Loss: 0.42\n",
      "Epoch 012/050 | Train Loss: 0.43 | Val Accuracy: 80.56% | Val Loss: 0.41\n",
      "Epoch 013/050 | Train Loss: 0.43 | Val Accuracy: 80.60% | Val Loss: 0.41\n",
      "Epoch 014/050 | Train Loss: 0.43 | Val Accuracy: 80.89% | Val Loss: 0.41\n",
      "Epoch 015/050 | Train Loss: 0.43 | Val Accuracy: 80.71% | Val Loss: 0.41\n",
      "Epoch 016/050 | Train Loss: 0.43 | Val Accuracy: 80.31% | Val Loss: 0.41\n",
      "Epoch 017/050 | Train Loss: 0.43 | Val Accuracy: 80.20% | Val Loss: 0.41\n",
      "Early stopping at epoch 17\n"
     ]
    }
   ],
   "source": [
    "train(model, train_loader, val_loader, criterion, optimizer, num_epochs=50, patience=5, verbose=True)"
   ]
  },
  {
   "cell_type": "code",
   "execution_count": 17,
   "id": "6afeb15a-a956-49f9-a2bd-99d0739fd7b2",
   "metadata": {},
   "outputs": [
    {
     "name": "stdout",
     "output_type": "stream",
     "text": [
      "Test Accuracy: 80.46 Test Loss: 0.4203\n"
     ]
    }
   ],
   "source": [
    "test_accuracy, test_loss = evaluate_model(model, test_loader)\n",
    "\n",
    "print(f\"Test Accuracy: {test_accuracy:.2f} Test Loss: {test_loss:.4f}\")"
   ]
  },
  {
   "cell_type": "code",
   "execution_count": 195,
   "id": "435c81a8-4fa2-40f2-862e-fdae2ed29e41",
   "metadata": {},
   "outputs": [
    {
     "name": "stdout",
     "output_type": "stream",
     "text": [
      "Test Accuracy: 81.01 Test Loss: 0.4185\n"
     ]
    }
   ],
   "source": [
    "test_accuracy, test_loss = evaluate_model(model, test_loader)\n",
    "\n",
    "print(f\"Test Accuracy: {test_accuracy:.2f} Test Loss: {test_loss:.4f}\")"
   ]
  },
  {
   "cell_type": "markdown",
   "id": "37ed4581-e210-476b-bb14-3eadaedc0af4",
   "metadata": {},
   "source": [
    "----"
   ]
  },
  {
   "cell_type": "code",
   "execution_count": null,
   "id": "fc76fce8-60d3-4b32-8c35-0f78f2812bd5",
   "metadata": {},
   "outputs": [],
   "source": []
  },
  {
   "cell_type": "code",
   "execution_count": null,
   "id": "901d3113-7741-44b7-b7f1-dff61b6022bc",
   "metadata": {},
   "outputs": [],
   "source": []
  },
  {
   "cell_type": "code",
   "execution_count": null,
   "id": "fa0f24eb-d701-4dd8-8e5e-4a197d695c2d",
   "metadata": {},
   "outputs": [],
   "source": []
  },
  {
   "cell_type": "code",
   "execution_count": 50,
   "id": "77d29d8a-cd18-40ab-b76a-1550266266b7",
   "metadata": {},
   "outputs": [],
   "source": []
  },
  {
   "cell_type": "code",
   "execution_count": null,
   "id": "3057a599-747e-40bb-8c1c-2231274895ea",
   "metadata": {},
   "outputs": [],
   "source": []
  },
  {
   "cell_type": "code",
   "execution_count": null,
   "id": "1047a99e-4d53-4f80-b303-984f418e60cc",
   "metadata": {},
   "outputs": [],
   "source": []
  }
 ],
 "metadata": {
  "kernelspec": {
   "display_name": "Python 3 (ipykernel)",
   "language": "python",
   "name": "python3"
  },
  "language_info": {
   "codemirror_mode": {
    "name": "ipython",
    "version": 3
   },
   "file_extension": ".py",
   "mimetype": "text/x-python",
   "name": "python",
   "nbconvert_exporter": "python",
   "pygments_lexer": "ipython3",
   "version": "3.12.9"
  }
 },
 "nbformat": 4,
 "nbformat_minor": 5
}
