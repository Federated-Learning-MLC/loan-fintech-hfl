{
 "cells": [
  {
   "cell_type": "markdown",
   "id": "a0f613f4-5943-4e56-904e-cda362a39136",
   "metadata": {},
   "source": [
    "# <center>Training a Decentralized Machine Learning Model</center>"
   ]
  },
  {
   "cell_type": "code",
   "execution_count": null,
   "id": "7e506c9a-9435-4f35-a1a5-a453cca2cda2",
   "metadata": {},
   "outputs": [],
   "source": []
  }
 ],
 "metadata": {
  "kernelspec": {
   "display_name": "Python 3 (ipykernel)",
   "language": "python",
   "name": "python3"
  },
  "language_info": {
   "codemirror_mode": {
    "name": "ipython",
    "version": 3
   },
   "file_extension": ".py",
   "mimetype": "text/x-python",
   "name": "python",
   "nbconvert_exporter": "python",
   "pygments_lexer": "ipython3",
   "version": "3.11.4"
  }
 },
 "nbformat": 4,
 "nbformat_minor": 5
}
